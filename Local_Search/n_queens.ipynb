{
 "cells": [
  {
   "cell_type": "markdown",
   "metadata": {},
   "source": [
    "# Solving the n-Queens Problem using Local Search\n",
    "\n",
    "## Instructions\n",
    "\n",
    "Total Points: undergrad 10, graduate students 11\n",
    "\n",
    "Complete this notebook and submit it. The notebook needs to be a complete project report with \n",
    "\n",
    "* your implementation (you can use libraries like math, numpy, scipy, but not libraries that implement inteligent agents or search algorithms),\n",
    "* documentation including a short discussion of how your implementation works and your design choices, and\n",
    "* experimental results (e.g., tables and charts with simulation results) with a short discussion of what they mean. \n",
    "\n",
    "Use the provided notebook cells and insert additional code and markdown cells as needed."
   ]
  },
  {
   "cell_type": "markdown",
   "metadata": {},
   "source": [
    "## The n-Queens Problem\n",
    "\n",
    "* __Goal:__ Find an arrangement of $n$ queens on a $n \\times n$ chess board so that no queen is on the same row, column or diagonal as any other queen.\n",
    "\n",
    "* __State space:__ An arrangement of the queens on the board. We restrict the state space to arrangements where there is only a single queen per column. We represent a state as an integer vector $\\mathbf{q} = \\{q_1, q_2, \\dots, q_n\\}$, each number representing the row positions of the queens from left to right. We will call a state a \"board.\"\n",
    "\n",
    "* __Objective function:__ The number of pairwise conflicts (i.e., two queens in the same row/column/diagonal).\n",
    "The optimization problem is to find the optimal arrangement $\\mathbf{q}^*$ of $n$ queens on the board can be written as:\n",
    "\n",
    "  > minimize: $\\mathrm{conflicts}(\\mathbf{q})$\n",
    "  >\n",
    "  > subject to: $\\mathbf{q} \\ \\text{contains only one queen per column}$\n",
    "\n",
    "  Note: the constraint (subject to) is enforced by the definition of the state space.\n",
    "\n",
    "* __Local improvement move:__ Move one queen to a different row in its column.\n",
    "\n",
    "* __Termination:__ For this problem there is always an arrangement $\\mathbf{q}^*$ with $\\mathrm{conflicts}(\\mathbf{q}^*) = 0$, however, the local improvement moves might end up in a local minimum. "
   ]
  },
  {
   "cell_type": "markdown",
   "metadata": {},
   "source": [
    "## Helper functions"
   ]
  },
  {
   "cell_type": "code",
   "execution_count": null,
   "metadata": {},
   "outputs": [],
   "source": [
    "import numpy as np\n",
    "import matplotlib.pyplot as plt\n",
    "from matplotlib import colors\n",
    "import random as rd\n",
    "\n",
    "np.random.seed(1234)\n",
    "\n",
    "\n",
    "def random_board(n):\n",
    "    \"\"\"Creates a random board of size n x n. Note that only a single queen is placed in each column!\"\"\"\n",
    "    \n",
    "    return(np.random.randint(0,n, size = n))\n",
    "\n",
    "def comb2(n): return n*(n-1)//2 # this is n choose 2 equivalent to math.comb(n, 2); // is int division\n",
    "\n",
    "def conflicts(board):\n",
    "    \"\"\"Caclulate the number of conflicts, i.e., the objective function.\"\"\"\n",
    "\n",
    "    n = len(board)\n",
    "    \n",
    "    horizontal_cnt = [0] * n\n",
    "    diagonal1_cnt = [0] * 2 * n\n",
    "    diagonal2_cnt = [0] * 2 * n\n",
    "    \n",
    "    for i in range(n):\n",
    "        horizontal_cnt[board[i]] += 1\n",
    "        diagonal1_cnt[i + board[i]] += 1\n",
    "        diagonal2_cnt[i - board[i] + n] += 1\n",
    "    \n",
    "    return sum(map(comb2, horizontal_cnt + diagonal1_cnt + diagonal2_cnt))\n",
    "\n",
    "\n",
    "def show_board(board, cols = ['white', 'gray'], fontsize = 48):  \n",
    "    \"\"\"display the board\"\"\"\n",
    "    \n",
    "    n = len(board)\n",
    "    \n",
    "    # create chess board display\n",
    "    display = np.zeros([n,n])\n",
    "    for i in range(n):\n",
    "        for j in range(n):\n",
    "            if (((i+j) % 2) != 0): \n",
    "                display[i,j] = 1\n",
    "    \n",
    "    cmap = colors.ListedColormap(cols)\n",
    "    fig, ax = plt.subplots()\n",
    "    ax.imshow(display, cmap = cmap, \n",
    "              norm = colors.BoundaryNorm(range(len(cols)+1), cmap.N))\n",
    "    ax.set_xticks([])\n",
    "    ax.set_yticks([])\n",
    "    \n",
    "    # place queens. Note: Unicode u265B is a black queen\n",
    "    for j in range(n):\n",
    "        plt.text(j, board[j], u\"\\u265B\", fontsize = fontsize, \n",
    "                 horizontalalignment = 'center',\n",
    "                 verticalalignment = 'center')\n",
    "    \n",
    "    print(f\"Board with {conflicts(board)} conflicts.\")\n",
    "    plt.show()"
   ]
  },
  {
   "cell_type": "markdown",
   "metadata": {},
   "source": [
    "## Create a board"
   ]
  },
  {
   "cell_type": "code",
   "execution_count": null,
   "metadata": {},
   "outputs": [],
   "source": [
    "board = random_board(4)\n",
    "\n",
    "show_board(board)\n",
    "print(f\"Queens (left to right) are at rows: {board}\")\n",
    "print(f\"Number of conflicts: {conflicts(board)}\")"
   ]
  },
  {
   "cell_type": "markdown",
   "metadata": {},
   "source": [
    "A board $4 \\times 4$ with no conflicts:"
   ]
  },
  {
   "cell_type": "code",
   "execution_count": null,
   "metadata": {},
   "outputs": [],
   "source": [
    "board = [1,3,0,2]\n",
    "show_board(board)"
   ]
  },
  {
   "cell_type": "code",
   "execution_count": null,
   "metadata": {},
   "outputs": [],
   "source": [
    "def expand(i,board):\n",
    "\n",
    "    moves = [a for a in range(len(board)) if a != i]\n",
    "    return moves\n",
    "\n",
    "print(expand(1,board))"
   ]
  },
  {
   "cell_type": "markdown",
   "metadata": {},
   "source": [
    "## Steepest-ascend Hill Climbing Search [3 Points]\n",
    "\n",
    "Calculate the objective function for all local moves (move each queen within its column) and always choose the best among all local moves. If there are no local moves that improve the objective, then you have reached a local optimum. "
   ]
  },
  {
   "cell_type": "code",
   "execution_count": 272,
   "metadata": {},
   "outputs": [
    {
     "name": "stdout",
     "output_type": "stream",
     "text": [
      "Board with 3 conflicts.\n"
     ]
    },
    {
     "data": {
      "image/png": "[encoded data removed]",
      "text/plain": [
       "<Figure size 432x288 with 1 Axes>"
      ]
     },
     "metadata": {},
     "output_type": "display_data"
    },
    {
     "name": "stdout",
     "output_type": "stream",
     "text": [
      "Board with 0 conflicts.\n"
     ]
    },
    {
     "data": {
      "image/png": "[encoded data removed]",
      "text/plain": [
       "<Figure size 432x288 with 1 Axes>"
      ]
     },
     "metadata": {},
     "output_type": "display_data"
    }
   ],
   "source": [
    "# Code and description go here\n",
    "'''\n",
    "THe global minimum at the start would be set to the current board variable.\n",
    "Also set conflicts(start) as the starting board variable as the current_conflicts variable\n",
    "For each column in the board, and for each of the nodes in the expansion(given the expand function) in that, calculate the conflicts of each expansion and then pick the one with the minimum.\n",
    "Do forward iteration and backward iteration and hopefully find the best one which also saves implementation time and space of the implementation\n",
    "\n",
    "'''\n",
    "board = random_board(5)\n",
    "def steepest_hill_climbing(board):\n",
    "    current = board.copy()\n",
    "    current_min_conflicts = conflicts(board)\n",
    "    for column_index in range(len(board)):\n",
    "        \n",
    "        column_moves = expand(current[column_index],current)\n",
    "        for move in column_moves:\n",
    "            test_move = current.copy()\n",
    "            test_move[column_index] = move\n",
    "\n",
    "            if conflicts(test_move) < current_min_conflicts:\n",
    "                current = test_move\n",
    "                current_min_conflicts = conflicts(test_move)\n",
    "    for column_index in range(len(board)):\n",
    "        column_moves = expand(current[len(board)-column_index-1],current)\n",
    "        for move in column_moves:\n",
    "            test_move = current.copy()\n",
    "            test_move[len(board)-column_index-1] = move\n",
    "            if conflicts(test_move) < current_min_conflicts:\n",
    "                current = test_move\n",
    "                current_min_conflicts = conflicts(test_move)\n",
    "    return current\n",
    "\n",
    "show_board(board)\n",
    "\n",
    "show_board(steepest_hill_climbing(board))\n",
    "\n",
    "\n",
    "\n",
    "\n",
    "\n",
    "\n",
    "\n"
   ]
  },
  {
   "cell_type": "markdown",
   "metadata": {},
   "source": [
    "## Stochastic Hill Climbing 1 [2 Point]\n",
    "\n",
    "Chooses randomly from among all uphill moves. Make the probability of the choice proportional to the steepness of the uphill move (i.e., with the improvement in conflicts). "
   ]
  },
  {
   "cell_type": "code",
   "execution_count": 395,
   "metadata": {},
   "outputs": [
    {
     "name": "stdout",
     "output_type": "stream",
     "text": [
      "0.02\n",
      "0.4\n"
     ]
    }
   ],
   "source": [
    "# Code and description go here\n",
    "'''\n",
    "First I want to iterate through all of the columns, on each column calculate all of the potential boards with all of their conflicts, put this in a list in order to choose one pbased on the probability function\n",
    "The list of moves will consist of an array of the current board arrangement and a list of weights and the weights will determine the probability of a pick\n",
    "\n",
    "'''\n",
    "board = random_board(15)\n",
    "\n",
    "\n",
    "def probability_generator(boards,original_conflicts):\n",
    "    weights = []\n",
    "    for indx in range(len(boards)):\n",
    "        weight = abs(original_conflicts-conflicts(boards[indx]))\n",
    "        weights.append(weight)\n",
    "    return weights\n",
    "\n",
    "\n",
    "def stochastic_hill_climbing(board):\n",
    "    current = board.copy()\n",
    "    tries = 0\n",
    "    while (conflicts(current) > 0 and tries < 1000):\n",
    "        tries+=1\n",
    "        current_min_conflicts = conflicts(board)\n",
    "        for column_index in range(len(board)):\n",
    "            column_moves = expand(current[column_index],current)\n",
    "            moves_list = []\n",
    "\n",
    "            for move in column_moves:\n",
    "                row_move = current.copy()\n",
    "                row_move[column_index] = move\n",
    "                if conflicts(row_move)<current_min_conflicts: #Don't even consider a move that is worse, it will mess up the weights and then make it so that sometimes we randomly make it worse\n",
    "                    moves_list.append(row_move.copy())\n",
    "\n",
    "            if moves_list:\n",
    "                weights = probability_generator(moves_list,current_min_conflicts)\n",
    "                gen_move = rd.choices(moves_list,weights,k=1)\n",
    "                current[column_index] = gen_move[0][column_index]\n",
    "    \n",
    "        \n",
    "        \n",
    "\n",
    "    \n",
    "    return current\n",
    "\n",
    "avg_conflicts_steepest = 0\n",
    "avg_conflicts_stochastic = 0\n",
    "for i in range(100):\n",
    "    board = random_board(5)\n",
    "    avg_conflicts_steepest = conflicts(steepest_hill_climbing(board))+avg_conflicts_steepest\n",
    "    avg_conflicts_stochastic = conflicts(stochastic_hill_climbing(board))+avg_conflicts_stochastic\n",
    "print(avg_conflicts_stochastic/100)\n",
    "print(avg_conflicts_steepest/100)\n"
   ]
  },
  {
   "cell_type": "markdown",
   "metadata": {},
   "source": [
    "## Stochastic Hill Climbing 2 [2 Point]\n",
    "\n",
    "A popular version of stochastic hill climbing generates only a single random local neighbor at a time and accept it if it has a better objective function value than the current state. This is very efficient if each state has many possible successor states. This method is called \"First-choice hill climbing\" in the textbook.\n",
    "\n",
    "__Notes:__ \n",
    "\n",
    "* Detecting local optima is tricky! You can, for example, stop if you were not able to improve the objective function during the last $x$ tries."
   ]
  },
  {
   "cell_type": "code",
   "execution_count": 396,
   "metadata": {},
   "outputs": [
    {
     "name": "stdout",
     "output_type": "stream",
     "text": [
      "Board with 6 conflicts.\n"
     ]
    },
    {
     "data": {
      "image/png": "[encoded data removed]",
      "text/plain": [
       "<Figure size 432x288 with 1 Axes>"
      ]
     },
     "metadata": {},
     "output_type": "display_data"
    },
    {
     "name": "stdout",
     "output_type": "stream",
     "text": [
      "Board with 0 conflicts.\n"
     ]
    },
    {
     "data": {
      "image/png": "[encoded data removed]",
      "text/plain": [
       "<Figure size 432x288 with 1 Axes>"
      ]
     },
     "metadata": {},
     "output_type": "display_data"
    }
   ],
   "source": [
    "# Code and description go her\n",
    "'''\n",
    "Basically just gather a single random and if it decreases number of conflicts from the original board then we use that version of the board\n",
    "'''\n",
    "def random_local_neighbor(board):\n",
    "    tries = 0\n",
    "\n",
    "    current = board.copy()\n",
    "    while(conflicts(current) > 0 and tries < 1000):\n",
    "        tries+=1\n",
    "        local_minimum = conflicts(board)\n",
    "        for column_index in range(len(board)):\n",
    "            column_moves = expand(current[column_index],current)\n",
    "            move_choice = rd.choice(column_moves)\n",
    "            test_board = current.copy()\n",
    "            test_board[column_index] = move_choice\n",
    "            if conflicts(test_board) < local_minimum:\n",
    "                local_minimum = conflicts(test_board)\n",
    "                current = test_board\n",
    "    \n",
    "    return current\n",
    "\n",
    "board = random_board(5)\n",
    "show_board(board)\n",
    "\n",
    "show_board(random_local_neighbor(board))"
   ]
  },
  {
   "cell_type": "markdown",
   "metadata": {},
   "source": [
    "## Hill Climbing Search with Random Restarts [1 Point]\n",
    "\n",
    "Hill climbing will often end up in local optima. Restart the each of the three hill climbing algorithm up to 100 times with a random board to find a better (hopefully optimal) solution. Note that restart just means to run the algoithm several times with a new random initialization."
   ]
  },
  {
   "cell_type": "code",
   "execution_count": 399,
   "metadata": {},
   "outputs": [
    {
     "name": "stdout",
     "output_type": "stream",
     "text": [
      "0\n"
     ]
    }
   ],
   "source": [
    "# Code and description go here\n",
    "def random_restart(N,algorithm):\n",
    "    board = random_board(N)\n",
    "    current = board.copy()\n",
    "    tries = 0\n",
    "    complete = False\n",
    "    min_board = current\n",
    "    while tries < 100:\n",
    "        tries+=1\n",
    "        if complete is False:\n",
    "            current = algorithm(current)\n",
    "            if conflicts(current) < conflicts(min_board):\n",
    "                min_board = current\n",
    "\n",
    "        if conflicts(min_board) == 0:\n",
    "            return min_board\n",
    "        if complete is True:\n",
    "            break \n",
    "        current = random_board(N) \n",
    "    \n",
    "    return min_board\n",
    "\n",
    "steepest_test = random_restart(10,steepest_hill_climbing)\n",
    "print(conflicts(steepest_test))\n",
    "    "
   ]
  },
  {
   "cell_type": "markdown",
   "metadata": {},
   "source": [
    "## Compare Performance [2 Points]\n",
    "\n",
    "Use runtime and objective function value to compare the algorithms. \n",
    "\n",
    "* Use boards of different sizes to explore how the different algorithms perform. Make sure that you run the algorithms for each board size several times (at least 10 times) with different starting boards and report averages.\n",
    "\n",
    "* How do the algorithms scale with problem size?\n",
    "\n",
    "* What is the largest board each algorithm can solve in a reasonable amount time?"
   ]
  },
  {
   "cell_type": "markdown",
   "metadata": {},
   "source": [
    "The example below times creating 100 random boards and calculating the conflicts. Reported is the average run time over `N = 100` runs.\n",
    "\n",
    "For timing you can use the `time` package."
   ]
  },
  {
   "cell_type": "code",
   "execution_count": 368,
   "metadata": {},
   "outputs": [
    {
     "name": "stdout",
     "output_type": "stream",
     "text": [
      "This took: 2.284111976623535 milliseconds\n"
     ]
    }
   ],
   "source": [
    "import time\n",
    "\n",
    "N = 100\n",
    "total = 0\n",
    "\n",
    "for i in range(N):\n",
    "    t0 = time.time()\n",
    "    for i in range(1,100): conflicts(random_board(8))\n",
    "    t1 = time.time()\n",
    "    total += t1 - t0\n",
    "\n",
    "tm = total/N\n",
    "    \n",
    "print(f\"This took: {tm * 1e3} milliseconds\")"
   ]
  },
  {
   "cell_type": "markdown",
   "metadata": {},
   "source": [
    "The `timit` package is useful to measure time for code that is called repeatedly."
   ]
  },
  {
   "cell_type": "code",
   "execution_count": null,
   "metadata": {},
   "outputs": [],
   "source": [
    "import timeit\n",
    "\n",
    "N = 100\n",
    "\n",
    "tm = timeit.timeit('for i in range(1,100): conflicts(random_board(8))', \n",
    "                   globals = globals(), number = N)/N\n",
    "\n",
    "print(f\"This took: {tm * 1e3} milliseconds\")"
   ]
  },
  {
   "cell_type": "code",
   "execution_count": null,
   "metadata": {},
   "outputs": [],
   "source": [
    "# Code, results, charts and discussion go here"
   ]
  },
  {
   "cell_type": "markdown",
   "metadata": {},
   "source": [
    "## Graduate student advanced task: Simulated Annealing [1 Point]\n",
    "\n",
    "__Undergraduate students:__ This is a bonus task you can attempt if you like [+1 Bonus point].\n",
    "\n",
    "Simulated annealing is a form of stochastic hill climbing that avoid local optima by also allowing downhill moves with a probability proportional to a temperature. The temperature is decreased in every iteration following an annealing schedule. You have to experiment with the annealing schedule (Google to find guidance on this).\n",
    "\n",
    "\n",
    "Implement simulated annealing for the n-Queens problem and compare its performance with the previouse algorithms."
   ]
  },
  {
   "cell_type": "code",
   "execution_count": null,
   "metadata": {
    "tags": []
   },
   "outputs": [],
   "source": [
    "# Code and description go here"
   ]
  },
  {
   "cell_type": "markdown",
   "metadata": {},
   "source": [
    "## More things to do\n",
    "\n",
    "Implement a Genetic Algorithm for the n-Queens problem."
   ]
  },
  {
   "cell_type": "code",
   "execution_count": null,
   "metadata": {
    "tags": []
   },
   "outputs": [],
   "source": [
    "# Code and description go here"
   ]
  }
 ],
 "metadata": {
  "interpreter": {
   "hash": "916dbcbb3f70747c44a77c7bcd40155683ae19c65e1c03b4aa3499c5328201f1"
  },
  "kernelspec": {
   "display_name": "Python 3.9.5 64-bit",
   "name": "python3"
  },
  "language_info": {
   "codemirror_mode": {
    "name": "ipython",
    "version": 3
   },
   "file_extension": ".py",
   "mimetype": "text/x-python",
   "name": "python",
   "nbconvert_exporter": "python",
   "pygments_lexer": "ipython3",
   "version": "3.9.5"
  }
 },
 "nbformat": 4,
 "nbformat_minor": 4
}
